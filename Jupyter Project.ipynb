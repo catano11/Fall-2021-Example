{
 "cells": [
  {
   "cell_type": "markdown",
   "id": "26fc7a8b",
   "metadata": {},
   "source": [
    "Jupyter 101"
   ]
  },
  {
   "cell_type": "code",
   "execution_count": 2,
   "id": "74e8a99c",
   "metadata": {},
   "outputs": [
    {
     "name": "stderr",
     "output_type": "stream",
     "text": [
      "Matplotlib is building the font cache; this may take a moment.\n"
     ]
    }
   ],
   "source": [
    "import pandas as pd\n",
    "import matplotlib.pyplot as plt"
   ]
  },
  {
   "cell_type": "code",
   "execution_count": 3,
   "id": "83108916",
   "metadata": {},
   "outputs": [
    {
     "name": "stdout",
     "output_type": "stream",
     "text": [
      "<class 'pandas.core.frame.DataFrame'>\n",
      "RangeIndex: 615 entries, 0 to 614\n",
      "Data columns (total 14 columns):\n",
      " #   Column    Non-Null Count  Dtype  \n",
      "---  ------    --------------  -----  \n",
      " 0   V1        615 non-null    int64  \n",
      " 1   Category  615 non-null    object \n",
      " 2   Age       615 non-null    int64  \n",
      " 3   Sex       615 non-null    object \n",
      " 4   ALB       614 non-null    float64\n",
      " 5   ALP       598 non-null    float64\n",
      " 6   ALT       614 non-null    float64\n",
      " 7   AST       615 non-null    float64\n",
      " 8   BIL       615 non-null    float64\n",
      " 9   CHE       615 non-null    float64\n",
      " 10  CHOL      610 non-null    float64\n",
      " 11  CREA      615 non-null    float64\n",
      " 12  GGT       615 non-null    float64\n",
      " 13  PROT      614 non-null    float64\n",
      "dtypes: float64(10), int64(2), object(2)\n",
      "memory usage: 67.4+ KB\n"
     ]
    },
    {
     "data": {
      "text/html": [
       "<div>\n",
       "<style scoped>\n",
       "    .dataframe tbody tr th:only-of-type {\n",
       "        vertical-align: middle;\n",
       "    }\n",
       "\n",
       "    .dataframe tbody tr th {\n",
       "        vertical-align: top;\n",
       "    }\n",
       "\n",
       "    .dataframe thead th {\n",
       "        text-align: right;\n",
       "    }\n",
       "</style>\n",
       "<table border=\"1\" class=\"dataframe\">\n",
       "  <thead>\n",
       "    <tr style=\"text-align: right;\">\n",
       "      <th></th>\n",
       "      <th>V1</th>\n",
       "      <th>Age</th>\n",
       "      <th>ALB</th>\n",
       "      <th>ALP</th>\n",
       "      <th>ALT</th>\n",
       "      <th>AST</th>\n",
       "      <th>BIL</th>\n",
       "      <th>CHE</th>\n",
       "      <th>CHOL</th>\n",
       "      <th>CREA</th>\n",
       "      <th>GGT</th>\n",
       "      <th>PROT</th>\n",
       "    </tr>\n",
       "  </thead>\n",
       "  <tbody>\n",
       "    <tr>\n",
       "      <th>count</th>\n",
       "      <td>615.000000</td>\n",
       "      <td>615.000000</td>\n",
       "      <td>614.000000</td>\n",
       "      <td>598.000000</td>\n",
       "      <td>614.000000</td>\n",
       "      <td>615.000000</td>\n",
       "      <td>615.000000</td>\n",
       "      <td>615.000000</td>\n",
       "      <td>610.000000</td>\n",
       "      <td>615.000000</td>\n",
       "      <td>615.000000</td>\n",
       "      <td>614.000000</td>\n",
       "    </tr>\n",
       "    <tr>\n",
       "      <th>mean</th>\n",
       "      <td>297.401626</td>\n",
       "      <td>47.382114</td>\n",
       "      <td>42.046417</td>\n",
       "      <td>68.429599</td>\n",
       "      <td>29.096254</td>\n",
       "      <td>35.006992</td>\n",
       "      <td>10.661301</td>\n",
       "      <td>8.198602</td>\n",
       "      <td>5.374590</td>\n",
       "      <td>84.707480</td>\n",
       "      <td>39.412846</td>\n",
       "      <td>72.298371</td>\n",
       "    </tr>\n",
       "    <tr>\n",
       "      <th>std</th>\n",
       "      <td>174.614176</td>\n",
       "      <td>10.052890</td>\n",
       "      <td>5.723730</td>\n",
       "      <td>23.268281</td>\n",
       "      <td>24.502409</td>\n",
       "      <td>33.301648</td>\n",
       "      <td>14.258596</td>\n",
       "      <td>1.991435</td>\n",
       "      <td>1.163755</td>\n",
       "      <td>75.944115</td>\n",
       "      <td>50.441207</td>\n",
       "      <td>4.971422</td>\n",
       "    </tr>\n",
       "    <tr>\n",
       "      <th>min</th>\n",
       "      <td>1.000000</td>\n",
       "      <td>19.000000</td>\n",
       "      <td>19.300000</td>\n",
       "      <td>11.300000</td>\n",
       "      <td>1.300000</td>\n",
       "      <td>10.600000</td>\n",
       "      <td>0.800000</td>\n",
       "      <td>1.570000</td>\n",
       "      <td>1.430000</td>\n",
       "      <td>8.000000</td>\n",
       "      <td>4.500000</td>\n",
       "      <td>51.000000</td>\n",
       "    </tr>\n",
       "    <tr>\n",
       "      <th>25%</th>\n",
       "      <td>144.000000</td>\n",
       "      <td>39.500000</td>\n",
       "      <td>39.000000</td>\n",
       "      <td>54.175000</td>\n",
       "      <td>16.600000</td>\n",
       "      <td>21.800000</td>\n",
       "      <td>5.000000</td>\n",
       "      <td>6.985000</td>\n",
       "      <td>4.582500</td>\n",
       "      <td>68.000000</td>\n",
       "      <td>15.900000</td>\n",
       "      <td>69.200000</td>\n",
       "    </tr>\n",
       "    <tr>\n",
       "      <th>50%</th>\n",
       "      <td>293.000000</td>\n",
       "      <td>47.000000</td>\n",
       "      <td>42.050000</td>\n",
       "      <td>66.350000</td>\n",
       "      <td>23.000000</td>\n",
       "      <td>25.800000</td>\n",
       "      <td>7.100000</td>\n",
       "      <td>8.210000</td>\n",
       "      <td>5.265000</td>\n",
       "      <td>78.000000</td>\n",
       "      <td>23.800000</td>\n",
       "      <td>72.200000</td>\n",
       "    </tr>\n",
       "    <tr>\n",
       "      <th>75%</th>\n",
       "      <td>454.500000</td>\n",
       "      <td>54.000000</td>\n",
       "      <td>45.900000</td>\n",
       "      <td>78.600000</td>\n",
       "      <td>35.400000</td>\n",
       "      <td>32.900000</td>\n",
       "      <td>11.800000</td>\n",
       "      <td>9.435000</td>\n",
       "      <td>6.080000</td>\n",
       "      <td>89.000000</td>\n",
       "      <td>42.900000</td>\n",
       "      <td>75.400000</td>\n",
       "    </tr>\n",
       "    <tr>\n",
       "      <th>max</th>\n",
       "      <td>615.000000</td>\n",
       "      <td>77.000000</td>\n",
       "      <td>82.200000</td>\n",
       "      <td>208.200000</td>\n",
       "      <td>325.300000</td>\n",
       "      <td>324.000000</td>\n",
       "      <td>200.000000</td>\n",
       "      <td>16.410000</td>\n",
       "      <td>9.670000</td>\n",
       "      <td>1079.100000</td>\n",
       "      <td>400.300000</td>\n",
       "      <td>90.000000</td>\n",
       "    </tr>\n",
       "  </tbody>\n",
       "</table>\n",
       "</div>"
      ],
      "text/plain": [
       "               V1         Age         ALB         ALP         ALT         AST  \\\n",
       "count  615.000000  615.000000  614.000000  598.000000  614.000000  615.000000   \n",
       "mean   297.401626   47.382114   42.046417   68.429599   29.096254   35.006992   \n",
       "std    174.614176   10.052890    5.723730   23.268281   24.502409   33.301648   \n",
       "min      1.000000   19.000000   19.300000   11.300000    1.300000   10.600000   \n",
       "25%    144.000000   39.500000   39.000000   54.175000   16.600000   21.800000   \n",
       "50%    293.000000   47.000000   42.050000   66.350000   23.000000   25.800000   \n",
       "75%    454.500000   54.000000   45.900000   78.600000   35.400000   32.900000   \n",
       "max    615.000000   77.000000   82.200000  208.200000  325.300000  324.000000   \n",
       "\n",
       "              BIL         CHE        CHOL         CREA         GGT        PROT  \n",
       "count  615.000000  615.000000  610.000000   615.000000  615.000000  614.000000  \n",
       "mean    10.661301    8.198602    5.374590    84.707480   39.412846   72.298371  \n",
       "std     14.258596    1.991435    1.163755    75.944115   50.441207    4.971422  \n",
       "min      0.800000    1.570000    1.430000     8.000000    4.500000   51.000000  \n",
       "25%      5.000000    6.985000    4.582500    68.000000   15.900000   69.200000  \n",
       "50%      7.100000    8.210000    5.265000    78.000000   23.800000   72.200000  \n",
       "75%     11.800000    9.435000    6.080000    89.000000   42.900000   75.400000  \n",
       "max    200.000000   16.410000    9.670000  1079.100000  400.300000   90.000000  "
      ]
     },
     "execution_count": 3,
     "metadata": {},
     "output_type": "execute_result"
    }
   ],
   "source": [
    "dat0 = pd.read_csv(\"data/sim_data.csv\")\n",
    "dat0\n",
    "dat0.info()  \n",
    "dat0.head()\n",
    "dat0.describe()"
   ]
  },
  {
   "cell_type": "code",
   "execution_count": 4,
   "id": "ddcce326",
   "metadata": {},
   "outputs": [
    {
     "name": "stderr",
     "output_type": "stream",
     "text": [
      "C:\\Users\\GABE\\AppData\\Local\\Temp/ipykernel_42332/3238215854.py:9: FutureWarning: Boolean inputs to the `inclusive` argument are deprecated infavour of `both` or `neither`.\n",
      "  dat0.ALB.between(40, 50, inclusive=True)\n",
      "C:\\Users\\GABE\\AppData\\Local\\Temp/ipykernel_42332/3238215854.py:11: FutureWarning: Boolean inputs to the `inclusive` argument are deprecated infavour of `both` or `neither`.\n",
      "  dat0.loc[dat0.ALB.between(40, 50, inclusive=True), 'CHOL' ]\n"
     ]
    },
    {
     "data": {
      "text/plain": [
       "0      0=Blood Donor\n",
       "1      0=Blood Donor\n",
       "2      0=Blood Donor\n",
       "3      0=Blood Donor\n",
       "4      0=Blood Donor\n",
       "           ...      \n",
       "610    0=Blood Donor\n",
       "611      3=Cirrhosis\n",
       "612    0=Blood Donor\n",
       "613    0=Blood Donor\n",
       "614    0=Blood Donor\n",
       "Name: Category, Length: 615, dtype: object"
      ]
     },
     "execution_count": 4,
     "metadata": {},
     "output_type": "execute_result"
    }
   ],
   "source": [
    "dat0.sort_values('ALB')\n",
    "dat0.sort_values(['ALB', 'CREA'])\n",
    "dat0.sort_values(['ALB', 'CREA'],ascending = [False,True])\n",
    "dat0.ALB  #subset\n",
    "dat0['ALB']\n",
    "dat0[['Age','ALB','CREA']]\n",
    "dat0.ALB > 50\n",
    "dat0[dat0.ALB > 50]\n",
    "dat0.ALB.between(40, 50, inclusive=True) \n",
    " \n",
    "dat0.loc[dat0.ALB.between(40, 50, inclusive=True), 'CHOL' ]\n",
    "dat0.iloc[10:30,2:5]\n",
    "dat0['Ag e'] = 42\n",
    "dat0.head()\n",
    "dat0.eval('Age+PROT')\n",
    "dat0.columns\n",
    "dat0.columns[1]\n",
    "dat0.iloc[1]\n",
    "dat0.iloc[:, 1]"
   ]
  },
  {
   "cell_type": "code",
   "execution_count": 5,
   "id": "f3a80c6b",
   "metadata": {},
   "outputs": [
    {
     "data": {
      "image/png": "[encoded data removed]",
      "text/plain": [
       "<Figure size 432x288 with 1 Axes>"
      ]
     },
     "metadata": {
      "needs_background": "light"
     },
     "output_type": "display_data"
    },
    {
     "data": {
      "image/png": "[encoded data removed]",
      "text/plain": [
       "<Figure size 432x288 with 1 Axes>"
      ]
     },
     "metadata": {
      "needs_background": "light"
     },
     "output_type": "display_data"
    },
    {
     "data": {
      "image/png": "[encoded data removed]",
      "text/plain": [
       "<Figure size 432x288 with 1 Axes>"
      ]
     },
     "metadata": {
      "needs_background": "light"
     },
     "output_type": "display_data"
    },
    {
     "data": {
      "image/png": "[encoded data removed]",
      "text/plain": [
       "<Figure size 432x288 with 1 Axes>"
      ]
     },
     "metadata": {
      "needs_background": "light"
     },
     "output_type": "display_data"
    },
    {
     "data": {
      "image/png": "[encoded data removed]",
      "text/plain": [
       "<Figure size 432x288 with 1 Axes>"
      ]
     },
     "metadata": {
      "needs_background": "light"
     },
     "output_type": "display_data"
    }
   ],
   "source": [
    "AP1=dat0.plot.scatter('ALB', 'PROT')\n",
    "AP1=dat0.plot.scatter('ALB', 'PROT', c='Green')\n",
    "AP1=dat0[dat0.Sex=='f'].plot.scatter('ALB', 'PROT', c='Green')\n",
    "AP2=dat0[dat0.Sex=='m'].plot.scatter('ALB', 'PROT', c='Red')\n",
    "AP1=dat0[dat0.Sex=='f'].plot.scatter('ALB', 'PROT', c='Green', label='f')\n",
    "AP2=dat0[dat0.Sex=='m'].plot.scatter('ALB', 'PROT', c='Red', label='m',ax=AP1)\n",
    "plt.show()"
   ]
  },
  {
   "cell_type": "code",
   "execution_count": 6,
   "id": "e3902667",
   "metadata": {},
   "outputs": [
    {
     "data": {
      "text/plain": [
       "['a', 1, 'x']"
      ]
     },
     "execution_count": 6,
     "metadata": {},
     "output_type": "execute_result"
    }
   ],
   "source": [
    "var_list=['a', 1, 'x']\n",
    "var_list"
   ]
  },
  {
   "cell_type": "code",
   "execution_count": 8,
   "id": "df583ace",
   "metadata": {},
   "outputs": [
    {
     "data": {
      "text/plain": [
       "['4', 5, ['a', 1, 'x']]"
      ]
     },
     "execution_count": 8,
     "metadata": {},
     "output_type": "execute_result"
    }
   ],
   "source": [
    "list2=['4', 5, var_list]\n",
    "list2"
   ]
  },
  {
   "cell_type": "code",
   "execution_count": 9,
   "id": "6fe68d57",
   "metadata": {},
   "outputs": [
    {
     "data": {
      "text/plain": [
       "['a', 1, 'x']"
      ]
     },
     "execution_count": 9,
     "metadata": {},
     "output_type": "execute_result"
    }
   ],
   "source": [
    "list2[2]"
   ]
  },
  {
   "cell_type": "code",
   "execution_count": 10,
   "id": "5ab38ed1",
   "metadata": {},
   "outputs": [
    {
     "data": {
      "text/plain": [
       "'x'"
      ]
     },
     "execution_count": 10,
     "metadata": {},
     "output_type": "execute_result"
    }
   ],
   "source": [
    "list2[2][2]"
   ]
  },
  {
   "cell_type": "code",
   "execution_count": 14,
   "id": "3abe1ba2",
   "metadata": {},
   "outputs": [
    {
     "data": {
      "text/plain": [
       "{'a': 1, 'b': 2, 'c': 5}"
      ]
     },
     "execution_count": 14,
     "metadata": {},
     "output_type": "execute_result"
    }
   ],
   "source": [
    "dict1= {'a':1,'b':2, 'c':5}\n",
    "dict1"
   ]
  },
  {
   "cell_type": "code",
   "execution_count": 15,
   "id": "1cdad21b",
   "metadata": {},
   "outputs": [
    {
     "data": {
      "text/plain": [
       "2"
      ]
     },
     "execution_count": 15,
     "metadata": {},
     "output_type": "execute_result"
    }
   ],
   "source": [
    "dict1['b']"
   ]
  },
  {
   "cell_type": "code",
   "execution_count": 16,
   "id": "06c3bf4f",
   "metadata": {},
   "outputs": [
    {
     "data": {
      "text/plain": [
       "1"
      ]
     },
     "execution_count": 16,
     "metadata": {},
     "output_type": "execute_result"
    }
   ],
   "source": [
    "dict1.get(\"a\")"
   ]
  },
  {
   "cell_type": "code",
   "execution_count": 18,
   "id": "e3ae772e",
   "metadata": {},
   "outputs": [
    {
     "data": {
      "text/plain": [
       "2"
      ]
     },
     "execution_count": 18,
     "metadata": {},
     "output_type": "execute_result"
    }
   ],
   "source": [
    "dict1[\"f\"]"
   ]
  },
  {
   "cell_type": "code",
   "execution_count": 19,
   "id": "6e885b10",
   "metadata": {},
   "outputs": [
    {
     "data": {
      "text/plain": [
       "NoneType"
      ]
     },
     "execution_count": 19,
     "metadata": {},
     "output_type": "execute_result"
    }
   ],
   "source": [
    "res = dict1.get('f')\n",
    "res\n",
    "type(res)"
   ]
  },
  {
   "cell_type": "code",
   "execution_count": 20,
   "id": "7acc1141",
   "metadata": {},
   "outputs": [
    {
     "name": "stdout",
     "output_type": "stream",
     "text": [
      "<class 'NoneType'>\n",
      "<class 'dict'>\n"
     ]
    }
   ],
   "source": [
    "print(type(res))\n",
    "print(type(dict1))"
   ]
  },
  {
   "cell_type": "code",
   "execution_count": 21,
   "id": "e3b15a85",
   "metadata": {},
   "outputs": [
    {
     "name": "stdout",
     "output_type": "stream",
     "text": [
      "['jan', 'feb', 'mar', 'apr']\n",
      "[42, 13, -8, 3.5]\n"
     ]
    }
   ],
   "source": [
    "mynames = ['jan','feb','mar','apr']\n",
    "values = [42,13,-8,3.5]\n",
    "print(mynames)\n",
    "print(values)"
   ]
  },
  {
   "cell_type": "code",
   "execution_count": 25,
   "id": "9bbcb210",
   "metadata": {},
   "outputs": [
    {
     "data": {
      "text/plain": [
       "{'jan': 42, 'feb': 13, 'mar': -8, 'apr': 3.5}"
      ]
     },
     "execution_count": 25,
     "metadata": {},
     "output_type": "execute_result"
    }
   ],
   "source": [
    "dict(zip(mynames,values))"
   ]
  },
  {
   "cell_type": "code",
   "execution_count": 27,
   "id": "bffb348f",
   "metadata": {},
   "outputs": [
    {
     "name": "stdout",
     "output_type": "stream",
     "text": [
      "<class 'dict'>\n"
     ]
    }
   ],
   "source": [
    "dict.update({'may':89})\n",
    "print(dict)"
   ]
  },
  {
   "cell_type": "code",
   "execution_count": 28,
   "id": "8fa1d345",
   "metadata": {},
   "outputs": [
    {
     "name": "stdout",
     "output_type": "stream",
     "text": [
      "['4', 5, ['a', 1, 'x'], 6]\n"
     ]
    }
   ],
   "source": [
    "list2.append(6)\n",
    "print(list2)"
   ]
  },
  {
   "cell_type": "code",
   "execution_count": 30,
   "id": "713875a0",
   "metadata": {},
   "outputs": [
    {
     "name": "stdout",
     "output_type": "stream",
     "text": [
      "['4', 5, ['a', 1, 'x'], 6]\n",
      "['4', 5, ['a', 1, 'x'], 6]\n"
     ]
    }
   ],
   "source": [
    "list3=list2\n",
    "print(list2)\n",
    "print(list3)"
   ]
  },
  {
   "cell_type": "code",
   "execution_count": 31,
   "id": "c2977fee",
   "metadata": {},
   "outputs": [
    {
     "name": "stdout",
     "output_type": "stream",
     "text": [
      "[7, 5, ['a', 1, 'x'], 6]\n",
      "[7, 5, ['a', 1, 'x'], 6]\n"
     ]
    }
   ],
   "source": [
    "list3[0] = 7\n",
    "print(list2)\n",
    "print(list3)"
   ]
  },
  {
   "cell_type": "code",
   "execution_count": 36,
   "id": "69a8d32c",
   "metadata": {},
   "outputs": [
    {
     "name": "stdout",
     "output_type": "stream",
     "text": [
      "[999, 5, ['a', 1, 'x'], 6]\n",
      "[7, 5, ['a', 1, 'x'], 6]\n"
     ]
    }
   ],
   "source": [
    "list4=list2.copy()\n",
    "list4[0] = 999\n",
    "print(list4)\n",
    "print(list2)"
   ]
  },
  {
   "cell_type": "code",
   "execution_count": 37,
   "id": "73687610",
   "metadata": {},
   "outputs": [
    {
     "name": "stdout",
     "output_type": "stream",
     "text": [
      "7\n",
      "5\n",
      "['a', 1, 'x']\n",
      "6\n"
     ]
    }
   ],
   "source": [
    "for xx in list2:print(xx)"
   ]
  },
  {
   "cell_type": "code",
   "execution_count": 40,
   "id": "bf3f1833",
   "metadata": {},
   "outputs": [
    {
     "name": "stdout",
     "output_type": "stream",
     "text": [
      "JAN\n",
      "FEB\n",
      "MAR\n",
      "APR\n"
     ]
    }
   ],
   "source": [
    "for xx in mynames: \n",
    "    print(xx.upper())"
   ]
  },
  {
   "cell_type": "code",
   "execution_count": 41,
   "id": "c609a658",
   "metadata": {},
   "outputs": [
    {
     "name": "stdout",
     "output_type": "stream",
     "text": [
      "['JAN']\n",
      "['JAN', 'FEB']\n",
      "['JAN', 'FEB', 'MAR']\n",
      "['JAN', 'FEB', 'MAR', 'APR']\n"
     ]
    }
   ],
   "source": [
    "listent =[]\n",
    "for xx in mynames: \n",
    "    listent.append(xx.upper())\n",
    "    print(listent)"
   ]
  },
  {
   "cell_type": "code",
   "execution_count": 42,
   "id": "b078ef18",
   "metadata": {},
   "outputs": [
    {
     "data": {
      "text/plain": [
       "['JAN', 'FEB', 'MAR', 'APR']"
      ]
     },
     "execution_count": 42,
     "metadata": {},
     "output_type": "execute_result"
    }
   ],
   "source": [
    "[xx.upper() for xx in mynames]"
   ]
  },
  {
   "cell_type": "code",
   "execution_count": 43,
   "id": "5e2cc044",
   "metadata": {},
   "outputs": [
    {
     "data": {
      "text/plain": [
       "[7, 8, 50]"
      ]
     },
     "execution_count": 43,
     "metadata": {},
     "output_type": "execute_result"
    }
   ],
   "source": [
    "[xx + 5 for xx in [2,3,45]]"
   ]
  },
  {
   "cell_type": "code",
   "execution_count": 45,
   "id": "4a82e449",
   "metadata": {},
   "outputs": [
    {
     "data": {
      "text/plain": [
       "[3, 11, 37]"
      ]
     },
     "execution_count": 45,
     "metadata": {},
     "output_type": "execute_result"
    }
   ],
   "source": [
    "addme = lambda xx,yy: xx+yy\n",
    "list(map(addme,[2,3,45],[1,8,-8]))\n"
   ]
  },
  {
   "cell_type": "code",
   "execution_count": 46,
   "id": "6aa5d61b",
   "metadata": {},
   "outputs": [
    {
     "data": {
      "text/plain": [
       "[9, 10, 11, 12]"
      ]
     },
     "execution_count": 46,
     "metadata": {},
     "output_type": "execute_result"
    }
   ],
   "source": [
    "[xx + 5 for xx in [1,2,3,4,5,6,7] if xx > 3]"
   ]
  },
  {
   "cell_type": "code",
   "execution_count": 47,
   "id": "746c2b27",
   "metadata": {},
   "outputs": [
    {
     "ename": "SyntaxError",
     "evalue": "illegal target for annotation (Temp/ipykernel_42332/777721759.py, line 1)",
     "output_type": "error",
     "traceback": [
      "\u001b[1;36m  File \u001b[1;32m\"C:\\Users\\GABE\\AppData\\Local\\Temp/ipykernel_42332/777721759.py\"\u001b[1;36m, line \u001b[1;32m1\u001b[0m\n\u001b[1;33m    aa <- 1:7 + 5 %>% `[`(.,.>3)\u001b[0m\n\u001b[1;37m    ^\u001b[0m\n\u001b[1;31mSyntaxError\u001b[0m\u001b[1;31m:\u001b[0m illegal target for annotation\n"
     ]
    }
   ],
   "source": [
    "aa <- 1:7 + 5 %>% `[`(.,.>3)"
   ]
  },
  {
   "cell_type": "code",
   "execution_count": null,
   "id": "24ca1f9c",
   "metadata": {},
   "outputs": [],
   "source": []
  }
 ],
 "metadata": {
  "kernelspec": {
   "display_name": "Python 3 (ipykernel)",
   "language": "python",
   "name": "python3"
  },
  "language_info": {
   "codemirror_mode": {
    "name": "ipython",
    "version": 3
   },
   "file_extension": ".py",
   "mimetype": "text/x-python",
   "name": "python",
   "nbconvert_exporter": "python",
   "pygments_lexer": "ipython3",
   "version": "3.9.6"
  }
 },
 "nbformat": 4,
 "nbformat_minor": 5
}
